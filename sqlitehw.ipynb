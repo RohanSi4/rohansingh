{
 "cells": [
  {
   "cell_type": "code",
   "execution_count": 1,
   "id": "d83a3fbf-30b2-47f0-aa6c-eef8732d7105",
   "metadata": {},
   "outputs": [],
   "source": [
    "#import statements\n",
    "\n",
    "import sqlite3\n",
    "import pandas as pd\n",
    "import matplotlib.pyplot as plt\n",
    "import os"
   ]
  },
  {
   "cell_type": "code",
   "execution_count": 3,
   "id": "6a9ecc74-4b29-4420-9eaa-46f0ccf30d18",
   "metadata": {},
   "outputs": [
    {
     "name": "stdout",
     "output_type": "stream",
     "text": [
      "created succesfully.\n"
     ]
    }
   ],
   "source": [
    "#Set Up the Database\n",
    "\n",
    "connection = sqlite3.connect('student_grades.db')\n",
    "\n",
    "cursor = connection.cursor()\n",
    "\n",
    "print(\"created succesfully.\")"
   ]
  },
  {
   "cell_type": "code",
   "execution_count": 5,
   "id": "398e3614-494d-4454-85e0-9d20a62b42aa",
   "metadata": {},
   "outputs": [
    {
     "name": "stdout",
     "output_type": "stream",
     "text": [
      "created succesfully.\n"
     ]
    }
   ],
   "source": [
    "#Create the Necessary Tables\n",
    "\n",
    "cursor.execute('''\n",
    "    CREATE TABLE IF NOT EXISTS students (\n",
    "        student_id INTEGER PRIMARY KEY AUTOINCREMENT,\n",
    "        first_name TEXT,\n",
    "        last_name TEXT\n",
    "    )\n",
    "''')\n",
    "\n",
    "cursor.execute('''\n",
    "    CREATE TABLE IF NOT EXISTS grades (\n",
    "        grade_id INTEGER PRIMARY KEY AUTOINCREMENT,\n",
    "        student_id INTEGER,\n",
    "        subject TEXT,\n",
    "        grade INTEGER,\n",
    "        FOREIGN KEY (student_id) REFERENCES students (student_id)\n",
    "    )\n",
    "''')\n",
    "\n",
    "print(\"created succesfully.\")"
   ]
  },
  {
   "cell_type": "code",
   "execution_count": 7,
   "id": "1d6a0c1b-299e-43e6-bfe1-2a0c4a8059d7",
   "metadata": {},
   "outputs": [
    {
     "name": "stdout",
     "output_type": "stream",
     "text": [
      "[('Alice', 'Johnson'), ('Bob', 'Smith'), ('Carol', 'White'), ('David', 'Brown'), ('Eve', 'Davis')]\n"
     ]
    }
   ],
   "source": [
    "students_data = [\n",
    "    ('Alice', 'Johnson'),\n",
    "    ('Bob', 'Smith'),\n",
    "    ('Carol', 'White'),\n",
    "    ('David', 'Brown'),\n",
    "    ('Eve', 'Davis')\n",
    "]\n",
    "print(students_data)"
   ]
  },
  {
   "cell_type": "code",
   "execution_count": 9,
   "id": "0f942492-376e-4d49-923e-d3ed51134022",
   "metadata": {},
   "outputs": [
    {
     "data": {
      "text/plain": [
       "<sqlite3.Cursor at 0x1059c4dc0>"
      ]
     },
     "execution_count": 9,
     "metadata": {},
     "output_type": "execute_result"
    }
   ],
   "source": [
    "#Insert Data into the Tables\n",
    "\n",
    "cursor.executemany('''\n",
    "    INSERT INTO students (first_name, last_name)\n",
    "    VALUES (?, ?)\n",
    "    ''', students_data)\n",
    "\n",
    "grades_data = [\n",
    "    (1, 'Math', 95),\n",
    "    (1, 'English', 88),\n",
    "    (1, 'History', 90),\n",
    "    (2, 'Math', 82),\n",
    "    (2, 'English', 76),\n",
    "    (2, 'History', 85),\n",
    "    (3, 'Math', 78),\n",
    "    (3, 'English', 83),\n",
    "    (3, 'History', 87),\n",
    "    (4, 'Math', 92),\n",
    "    (4, 'English', 80),\n",
    "    (4, 'History', 89),\n",
    "    (5, 'Math', 88),\n",
    "    (5, 'English', 91),\n",
    "    (5, 'History', 85)\n",
    "]\n",
    "\n",
    "cursor.executemany('''\n",
    "    INSERT INTO grades (student_id, subject, grade)\n",
    "    VALUES (?, ?, ?)\n",
    "    ''', grades_data)"
   ]
  },
  {
   "cell_type": "code",
   "execution_count": 11,
   "id": "d37326fc-cb15-420d-8390-13dc61c3dd99",
   "metadata": {},
   "outputs": [
    {
     "name": "stdout",
     "output_type": "stream",
     "text": [
      "('Alice', 'Johnson', 'Math', 95)\n",
      "('Alice', 'Johnson', 'English', 88)\n",
      "('Alice', 'Johnson', 'History', 90)\n",
      "('Bob', 'Smith', 'Math', 82)\n",
      "('Bob', 'Smith', 'English', 76)\n",
      "('Bob', 'Smith', 'History', 85)\n",
      "('Carol', 'White', 'Math', 78)\n",
      "('Carol', 'White', 'English', 83)\n",
      "('Carol', 'White', 'History', 87)\n",
      "('David', 'Brown', 'Math', 92)\n",
      "('David', 'Brown', 'English', 80)\n",
      "('David', 'Brown', 'History', 89)\n",
      "('Eve', 'Davis', 'Math', 88)\n",
      "('Eve', 'Davis', 'English', 91)\n",
      "('Eve', 'Davis', 'History', 85)\n"
     ]
    }
   ],
   "source": [
    "# Perform SQL Queries\n",
    "\n",
    "#Retrieve all students' names and their grades\n",
    "\n",
    "cursor.execute('''\n",
    "    SELECT students.first_name, students.last_name, grades.subject, grades.grade\n",
    "    FROM students\n",
    "    JOIN grades ON students.student_id = grades.student_id;\n",
    "    ''')\n",
    "\n",
    "results = cursor.fetchall()\n",
    "\n",
    "for row in results:\n",
    "    print(row)"
   ]
  },
  {
   "cell_type": "code",
   "execution_count": 13,
   "id": "171d5400-35d7-47d9-a1b1-7f7891bc5b56",
   "metadata": {},
   "outputs": [
    {
     "name": "stdout",
     "output_type": "stream",
     "text": [
      "('Alice', 'Johnson', 91.0)\n",
      "('Bob', 'Smith', 81.0)\n",
      "('Carol', 'White', 82.66666666666667)\n",
      "('David', 'Brown', 87.0)\n",
      "('Eve', 'Davis', 88.0)\n"
     ]
    }
   ],
   "source": [
    "#Find the average grade for each student\n",
    "\n",
    "cursor.execute('''\n",
    "    SELECT students.first_name, students.last_name, AVG(grades.grade) AS average_grade\n",
    "    FROM students\n",
    "    JOIN grades ON students.student_id = grades.student_id\n",
    "    GROUP BY students.student_id;\n",
    "    ''')\n",
    "\n",
    "results = cursor.fetchall()\n",
    "\n",
    "for row in results:\n",
    "    print(row)"
   ]
  },
  {
   "cell_type": "code",
   "execution_count": 15,
   "id": "4532e80f-b4fa-456e-8aa3-9b45822042c5",
   "metadata": {},
   "outputs": [
    {
     "name": "stdout",
     "output_type": "stream",
     "text": [
      "('Alice', 'Johnson', 91.0)\n"
     ]
    }
   ],
   "source": [
    "#Find the student with the highest average grade\n",
    "\n",
    "cursor.execute('''\n",
    "    SELECT students.first_name, students.last_name, AVG(grades.grade) AS average_grade\n",
    "    FROM students\n",
    "    JOIN grades ON students.student_id = grades.student_id\n",
    "    GROUP BY students.student_id\n",
    "    ORDER BY average_grade DESC\n",
    "    LIMIT 1;\n",
    "    ''')\n",
    "\n",
    "results = cursor.fetchall()\n",
    "\n",
    "for row in results:\n",
    "    print(row)"
   ]
  },
  {
   "cell_type": "code",
   "execution_count": 17,
   "id": "5a5edcfc-dc7e-48fc-a5fd-f8b1e70e0a82",
   "metadata": {},
   "outputs": [
    {
     "name": "stdout",
     "output_type": "stream",
     "text": [
      "[(87.0,)]\n"
     ]
    }
   ],
   "source": [
    "#Find the average grade for the Math subject\n",
    "\n",
    "cursor.execute('''\n",
    "    SELECT AVG(grade) AS average_math_grade\n",
    "    FROM grades\n",
    "    WHERE subject = 'Math';\n",
    "    ''')\n",
    "\n",
    "results = cursor.fetchall()\n",
    "\n",
    "print(results)"
   ]
  },
  {
   "cell_type": "code",
   "execution_count": 19,
   "id": "320ec98e-fad7-498e-92d3-e16e37d53ff3",
   "metadata": {},
   "outputs": [
    {
     "name": "stdout",
     "output_type": "stream",
     "text": [
      "('Alice', 'Johnson', 'Math', 95)\n",
      "('David', 'Brown', 'Math', 92)\n",
      "('Eve', 'Davis', 'English', 91)\n"
     ]
    }
   ],
   "source": [
    "#List all students who scored above 90 in any subject\n",
    "\n",
    "cursor.execute('''\n",
    "    SELECT students.first_name, students.last_name, grades.subject, grades.grade\n",
    "    FROM students\n",
    "    JOIN grades ON students.student_id = grades.student_id\n",
    "    WHERE grades.grade > 90;\n",
    "    ''')\n",
    "\n",
    "results = cursor.fetchall()\n",
    "\n",
    "for row in results:\n",
    "    print(row)"
   ]
  },
  {
   "cell_type": "code",
   "execution_count": 21,
   "id": "2c17690e-dcc6-4017-a959-a3050b247409",
   "metadata": {},
   "outputs": [
    {
     "data": {
      "text/html": [
       "<div>\n",
       "<style scoped>\n",
       "    .dataframe tbody tr th:only-of-type {\n",
       "        vertical-align: middle;\n",
       "    }\n",
       "\n",
       "    .dataframe tbody tr th {\n",
       "        vertical-align: top;\n",
       "    }\n",
       "\n",
       "    .dataframe thead th {\n",
       "        text-align: right;\n",
       "    }\n",
       "</style>\n",
       "<table border=\"1\" class=\"dataframe\">\n",
       "  <thead>\n",
       "    <tr style=\"text-align: right;\">\n",
       "      <th></th>\n",
       "      <th>first_name</th>\n",
       "      <th>last_name</th>\n",
       "      <th>subject</th>\n",
       "      <th>grade</th>\n",
       "    </tr>\n",
       "  </thead>\n",
       "  <tbody>\n",
       "    <tr>\n",
       "      <th>0</th>\n",
       "      <td>Alice</td>\n",
       "      <td>Johnson</td>\n",
       "      <td>Math</td>\n",
       "      <td>95</td>\n",
       "    </tr>\n",
       "    <tr>\n",
       "      <th>1</th>\n",
       "      <td>Alice</td>\n",
       "      <td>Johnson</td>\n",
       "      <td>English</td>\n",
       "      <td>88</td>\n",
       "    </tr>\n",
       "    <tr>\n",
       "      <th>2</th>\n",
       "      <td>Alice</td>\n",
       "      <td>Johnson</td>\n",
       "      <td>History</td>\n",
       "      <td>90</td>\n",
       "    </tr>\n",
       "    <tr>\n",
       "      <th>3</th>\n",
       "      <td>Bob</td>\n",
       "      <td>Smith</td>\n",
       "      <td>Math</td>\n",
       "      <td>82</td>\n",
       "    </tr>\n",
       "    <tr>\n",
       "      <th>4</th>\n",
       "      <td>Bob</td>\n",
       "      <td>Smith</td>\n",
       "      <td>English</td>\n",
       "      <td>76</td>\n",
       "    </tr>\n",
       "    <tr>\n",
       "      <th>5</th>\n",
       "      <td>Bob</td>\n",
       "      <td>Smith</td>\n",
       "      <td>History</td>\n",
       "      <td>85</td>\n",
       "    </tr>\n",
       "    <tr>\n",
       "      <th>6</th>\n",
       "      <td>Carol</td>\n",
       "      <td>White</td>\n",
       "      <td>Math</td>\n",
       "      <td>78</td>\n",
       "    </tr>\n",
       "    <tr>\n",
       "      <th>7</th>\n",
       "      <td>Carol</td>\n",
       "      <td>White</td>\n",
       "      <td>English</td>\n",
       "      <td>83</td>\n",
       "    </tr>\n",
       "    <tr>\n",
       "      <th>8</th>\n",
       "      <td>Carol</td>\n",
       "      <td>White</td>\n",
       "      <td>History</td>\n",
       "      <td>87</td>\n",
       "    </tr>\n",
       "    <tr>\n",
       "      <th>9</th>\n",
       "      <td>David</td>\n",
       "      <td>Brown</td>\n",
       "      <td>Math</td>\n",
       "      <td>92</td>\n",
       "    </tr>\n",
       "    <tr>\n",
       "      <th>10</th>\n",
       "      <td>David</td>\n",
       "      <td>Brown</td>\n",
       "      <td>English</td>\n",
       "      <td>80</td>\n",
       "    </tr>\n",
       "    <tr>\n",
       "      <th>11</th>\n",
       "      <td>David</td>\n",
       "      <td>Brown</td>\n",
       "      <td>History</td>\n",
       "      <td>89</td>\n",
       "    </tr>\n",
       "    <tr>\n",
       "      <th>12</th>\n",
       "      <td>Eve</td>\n",
       "      <td>Davis</td>\n",
       "      <td>Math</td>\n",
       "      <td>88</td>\n",
       "    </tr>\n",
       "    <tr>\n",
       "      <th>13</th>\n",
       "      <td>Eve</td>\n",
       "      <td>Davis</td>\n",
       "      <td>English</td>\n",
       "      <td>91</td>\n",
       "    </tr>\n",
       "    <tr>\n",
       "      <th>14</th>\n",
       "      <td>Eve</td>\n",
       "      <td>Davis</td>\n",
       "      <td>History</td>\n",
       "      <td>85</td>\n",
       "    </tr>\n",
       "  </tbody>\n",
       "</table>\n",
       "</div>"
      ],
      "text/plain": [
       "   first_name last_name  subject  grade\n",
       "0       Alice   Johnson     Math     95\n",
       "1       Alice   Johnson  English     88\n",
       "2       Alice   Johnson  History     90\n",
       "3         Bob     Smith     Math     82\n",
       "4         Bob     Smith  English     76\n",
       "5         Bob     Smith  History     85\n",
       "6       Carol     White     Math     78\n",
       "7       Carol     White  English     83\n",
       "8       Carol     White  History     87\n",
       "9       David     Brown     Math     92\n",
       "10      David     Brown  English     80\n",
       "11      David     Brown  History     89\n",
       "12        Eve     Davis     Math     88\n",
       "13        Eve     Davis  English     91\n",
       "14        Eve     Davis  History     85"
      ]
     },
     "execution_count": 21,
     "metadata": {},
     "output_type": "execute_result"
    }
   ],
   "source": [
    "# Load Data into Pandas\n",
    "\n",
    "combined_df = pd.read_sql_query('''\n",
    "    SELECT students.first_name, students.last_name, grades.subject, grades.grade\n",
    "    FROM students\n",
    "    JOIN grades ON students.student_id = grades.student_id\n",
    "''', connection)\n",
    "\n",
    "combined_df"
   ]
  },
  {
   "cell_type": "code",
   "execution_count": 23,
   "id": "32854347-687c-4385-8c54-2af5588f159e",
   "metadata": {},
   "outputs": [
    {
     "data": {
      "image/png": "[encoded data removed]",
      "text/plain": [
       "<Figure size 1000x600 with 1 Axes>"
      ]
     },
     "metadata": {},
     "output_type": "display_data"
    }
   ],
   "source": [
    "avg_grades_per_student = combined_df.groupby(['first_name', 'last_name'])['grade'].mean()\n",
    "\n",
    "avg_grades_per_student.plot(kind='bar', figsize=(10, 6), color='skyblue')\n",
    "plt.title('Average Grades for Each Student')\n",
    "plt.xlabel('Student')\n",
    "plt.ylabel('Average Grade')\n",
    "plt.xticks(rotation=45)\n",
    "plt.show()"
   ]
  },
  {
   "cell_type": "code",
   "execution_count": 25,
   "id": "b8840b8e-7d67-4225-b4c0-39ebb7433cb4",
   "metadata": {},
   "outputs": [
    {
     "data": {
      "image/png": "[encoded data removed]",
      "text/plain": [
       "<Figure size 800x500 with 1 Axes>"
      ]
     },
     "metadata": {},
     "output_type": "display_data"
    }
   ],
   "source": [
    "# Calculate the average grade for each subject\n",
    "avg_grades_per_subject = combined_df.groupby('subject')['grade'].mean()\n",
    "\n",
    "# Plot the average grade for each subject\n",
    "avg_grades_per_subject.plot(kind='bar', figsize=(8, 5), color='lightgreen')\n",
    "plt.title('Average Grade for Each Subject')\n",
    "plt.xlabel('Subject')\n",
    "plt.ylabel('Average Grade')\n",
    "plt.xticks(rotation=0)\n",
    "plt.show()\n"
   ]
  },
  {
   "cell_type": "code",
   "execution_count": null,
   "id": "a4cc7496-ec7b-4bfe-8047-21a2ebd16428",
   "metadata": {},
   "outputs": [],
   "source": []
  }
 ],
 "metadata": {
  "kernelspec": {
   "display_name": "Python 3 (ipykernel)",
   "language": "python",
   "name": "python3"
  },
  "language_info": {
   "codemirror_mode": {
    "name": "ipython",
    "version": 3
   },
   "file_extension": ".py",
   "mimetype": "text/x-python",
   "name": "python",
   "nbconvert_exporter": "python",
   "pygments_lexer": "ipython3",
   "version": "3.12.4"
  }
 },
 "nbformat": 4,
 "nbformat_minor": 5
}
